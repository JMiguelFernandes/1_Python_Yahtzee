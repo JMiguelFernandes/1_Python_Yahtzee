{
 "cells": [
  {
   "cell_type": "markdown",
   "metadata": {},
   "source": [
    "# Yahtzee\n",
    "### Functions to be defined:\n",
    "\n",
    "- print_scoreboard\n",
    "- roll_dice\n",
    "- evaluate_roll\n",
    "- choose_what_to_score\n",
    "\n",
    "### Game flow:\n",
    "\n",
    "1. Print welcome screen, including the rules\n",
    "2. roll_dice\n",
    "3. evaluate_roll\n",
    "4. print_scoreboard\n",
    "5. choose_what_to_score\n",
    "\n",
    "Iterate points 2-5 for each player for a total of nplayers\\*13 rounds; then calculate final scores and congratulate the winner"
   ]
  },
  {
   "cell_type": "code",
   "execution_count": 2,
   "metadata": {},
   "outputs": [],
   "source": [
    "import pandas as pd\n",
    "import random"
   ]
  },
  {
   "cell_type": "code",
   "execution_count": 3,
   "metadata": {},
   "outputs": [
    {
     "name": "stdout",
     "output_type": "stream",
     "text": [
      "                          Player 1       Player 2\n",
      "Ones                             -              -\n",
      "Twos                             -              -\n",
      "Threes                           -              -\n",
      "Fours                            -              -\n",
      "Fives                            -              -\n",
      "Sixes                            -              -\n",
      "Total Score                      -              -\n",
      "Bonus                            -              -\n",
      "Total Upper Section              -              -\n",
      "Lower Section        -------------  -------------\n",
      "Three of a Kind                  -              -\n",
      "Four of a Kind                   -              -\n",
      "Full House                       -              -\n",
      "Small Straight                   -              -\n",
      "Large Straight                   -              -\n",
      "Yahtzee                          -              -\n",
      "Chance                           -              -\n",
      "Yahtzee Bonus                    -              -\n",
      "Total Lower Score                -              -\n",
      "Grand Total                      -              -\n"
     ]
    }
   ],
   "source": [
    "nplayers = 2 #change this later to be input by the players\n",
    "\n",
    "column_titles = [f\"Player {n}\" for n in range(1, nplayers+1)]\n",
    "\n",
    "empty_columns = [\"-\" if i != 9 else \"-------------\" for i in range(20)]\n",
    "dict_for_dataframe = {player:empty_columns for player in column_titles}\n",
    "\n",
    "frame = pd.DataFrame(dict_for_dataframe)\n",
    "\n",
    "row_names = {0:\"Ones\", 1:\"Twos\", 2:\"Threes\", 3:\"Fours\", 4:\"Fives\", 5:\"Sixes\", 6:\"Total Score\", \n",
    "             7:\"Bonus\", 8:\"Total Upper Section\", 9:\"Lower Section\", 10:\"Three of a Kind\", 11:\"Four of a Kind\", \n",
    "            12:\"Full House\", 13:\"Small Straight\", 14:\"Large Straight\", 15:\"Yahtzee\", 16:\"Chance\", 17:\"Yahtzee Bonus\", \n",
    "             18:\"Total Lower Score\", 19:\"Grand Total\"}\n",
    "\n",
    "frame.rename(index=row_names, inplace=True)\n",
    "print(frame)"
   ]
  },
  {
   "cell_type": "code",
   "execution_count": 12,
   "metadata": {},
   "outputs": [
    {
     "name": "stdout",
     "output_type": "stream",
     "text": [
      " d1  d2  d3  d4  d5\n",
      "  3   5   4   3   5\n",
      "Press the number of the dice you want to reroll, then Enter: 45\n",
      "45\n",
      " d1  d2  d3  d4  d5\n",
      "  3   5   4   4   1\n",
      "Press the number of the dice you want to reroll, then Enter: 45\n",
      "45\n",
      " d1  d2  d3  d4  d5\n",
      "  3   5   4   6   2\n"
     ]
    },
    {
     "data": {
      "text/plain": [
       "[3, 5, 4, 6, 2]"
      ]
     },
     "execution_count": 12,
     "metadata": {},
     "output_type": "execute_result"
    }
   ],
   "source": [
    "def roll_dice():\n",
    "    \n",
    "    #FIRST ROLL\n",
    "    \n",
    "    d1=random.choices(range(1,7))[0]\n",
    "    d2=random.choices(range(1,7))[0]\n",
    "    d3=random.choices(range(1,7))[0]\n",
    "    d4=random.choices(range(1,7))[0]\n",
    "    d5=random.choices(range(1,7))[0]\n",
    "    \n",
    "    dice=[d1, d2, d3, d4, d5]\n",
    "    \n",
    "    dice_dict={\"d1\":[dice[0]], \"d2\":[dice[1]], \"d3\":[dice[2]], \"d4\":[dice[3]], \"d5\":[dice[4]]}\n",
    "    dice_df=pd.DataFrame(dice_dict)\n",
    "    print(dice_df.to_string(index=False))\n",
    "    \n",
    "    #SECOND ROLL\n",
    "    \n",
    "    dice_to_reroll=input(\"Press the number of the dice you want to reroll, then Enter: \")\n",
    "    if len(dice_to_reroll)==0:\n",
    "        return(dice_dict)\n",
    "    \n",
    "    while len(dice_to_reroll)>5 or any([i not in [\"1\", \"2\", \"3\", \"4\", \"5\"] for i in dice_to_reroll]) or len(dice_to_reroll)!=len(set(dice_to_reroll)):\n",
    "        dice_to_reroll=input(\"Press the number(s) of the dice you want to reroll, then Enter: \")\n",
    "    print(dice_to_reroll)\n",
    "\n",
    "    dice_to_reroll=[int(number) for number in dice_to_reroll]\n",
    "    \n",
    "    for i in dice_to_reroll:\n",
    "        dice[i-1]=random.choices(range(1,7))[0]\n",
    "    \n",
    "    dice_dict={\"d1\":[dice[0]], \"d2\":[dice[1]], \"d3\":[dice[2]], \"d4\":[dice[3]], \"d5\":[dice[4]]}\n",
    "    dice_df=pd.DataFrame(dice_dict)\n",
    "    print(dice_df.to_string(index=False))\n",
    "    \n",
    "    #THIRD ROLL\n",
    "    \n",
    "    dice_to_reroll=input(\"Press the number of the dice you want to reroll, then Enter: \")\n",
    "    if len(dice_to_reroll)==0:\n",
    "        return(dice_dict)\n",
    "    \n",
    "    while len(dice_to_reroll)>5 or any([i not in [\"1\", \"2\", \"3\", \"4\", \"5\"] for i in dice_to_reroll]) or len(dice_to_reroll)!=len(set(dice_to_reroll)):\n",
    "        dice_to_reroll=input(\"Press the number(s) of the dice you want to reroll, then Enter: \")\n",
    "    print(dice_to_reroll)\n",
    "\n",
    "    dice_to_reroll=[int(number) for number in dice_to_reroll]\n",
    "    \n",
    "    for i in dice_to_reroll:\n",
    "        dice[i-1]=random.choices(range(1,7))[0]\n",
    "    \n",
    "    dice_dict={\"d1\":[dice[0]], \"d2\":[dice[1]], \"d3\":[dice[2]], \"d4\":[dice[3]], \"d5\":[dice[4]]}\n",
    "    dice_df=pd.DataFrame(dice_dict)\n",
    "    print(dice_df.to_string(index=False))\n",
    "\n",
    "    return([i[0] for i in dice_dict.values()])\n",
    "    \n",
    "roll_dice()"
   ]
  },
  {
   "cell_type": "code",
   "execution_count": 50,
   "metadata": {},
   "outputs": [
    {
     "data": {
      "text/plain": [
       "{'ones': True,\n",
       " 'twos': True,\n",
       " 'threes': True,\n",
       " 'fours': True,\n",
       " 'fives': True,\n",
       " 'sixes': True,\n",
       " '3_of_a_kind': False,\n",
       " '4_of_a_kind': False,\n",
       " 'yahtzee': False,\n",
       " 'full_house': False,\n",
       " 'small_straight': True,\n",
       " 'large_straight': True,\n",
       " 'chance': True}"
      ]
     },
     "execution_count": 50,
     "metadata": {},
     "output_type": "execute_result"
    }
   ],
   "source": [
    "example_roll=[6,3,5,2,4]\n",
    "\n",
    "def evaluate_roll(roll):\n",
    "    evaluation = {\"ones\" : True,\n",
    "                  \"twos\" : True,\n",
    "                  \"threes\" : True,\n",
    "                  \"fours\" : True,\n",
    "                  \"fives\" : True,\n",
    "                  \"sixes\" : True,\n",
    "                  \"3_of_a_kind\" : False, \n",
    "                  \"4_of_a_kind\" : False, \n",
    "                  \"yahtzee\" : False, \n",
    "                  \"full_house\" : False, \n",
    "                  \"small_straight\" : False, \n",
    "                  \"large_straight\" : False,\n",
    "                  \"chance\" : True\n",
    "                 }\n",
    "    \n",
    "    if any([roll.count(i)>=3 for i in roll]):\n",
    "        evaluation[\"3_of_a_kind\"]=True\n",
    "    if any([roll.count(i)>=4 for i in roll]):\n",
    "        evaluation[\"4_of_a_kind\"]=True\n",
    "    if any([roll.count(i)==5 for i in roll]):\n",
    "        evaluation[\"yahtzee\"]=True\n",
    "    if 3 in [roll.count(i) for i in roll] and 2 in [roll.count(i) for i in roll]:\n",
    "        evaluation[\"full_house\"]=True\n",
    "    if all([i in roll for i in [1,2,3,4]]) or all([i in roll for i in [2,3,4,5]]) or all([i in roll for i in [3,4,5,6]]):\n",
    "        evaluation[\"small_straight\"]=True\n",
    "    if all([i in roll for i in [1,2,3,4,5]]) or all([i in roll for i in [2,3,4,5,6]]):\n",
    "        evaluation[\"large_straight\"]=True\n",
    "\n",
    "    return(evaluation)\n",
    "\n",
    "evaluate_roll(example_roll)\n",
    "    "
   ]
  }
 ],
 "metadata": {
  "kernelspec": {
   "display_name": "Python 3",
   "language": "python",
   "name": "python3"
  },
  "language_info": {
   "codemirror_mode": {
    "name": "ipython",
    "version": 3
   },
   "file_extension": ".py",
   "mimetype": "text/x-python",
   "name": "python",
   "nbconvert_exporter": "python",
   "pygments_lexer": "ipython3",
   "version": "3.8.3"
  },
  "varInspector": {
   "cols": {
    "lenName": 16,
    "lenType": 16,
    "lenVar": 40
   },
   "kernels_config": {
    "python": {
     "delete_cmd_postfix": "",
     "delete_cmd_prefix": "del ",
     "library": "var_list.py",
     "varRefreshCmd": "print(var_dic_list())"
    },
    "r": {
     "delete_cmd_postfix": ") ",
     "delete_cmd_prefix": "rm(",
     "library": "var_list.r",
     "varRefreshCmd": "cat(var_dic_list()) "
    }
   },
   "types_to_exclude": [
    "module",
    "function",
    "builtin_function_or_method",
    "instance",
    "_Feature"
   ],
   "window_display": false
  }
 },
 "nbformat": 4,
 "nbformat_minor": 4
}
